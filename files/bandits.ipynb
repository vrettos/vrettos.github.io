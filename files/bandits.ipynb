{
 "cells": [
  {
   "cell_type": "code",
   "execution_count": 1,
   "metadata": {},
   "outputs": [],
   "source": [
    "from math import exp,sqrt,log\n",
    "import numpy as np\n",
    "from matplotlib import pyplot as plt\n",
    "from pynverse import inversefunc\n",
    "import csv "
   ]
  },
  {
   "cell_type": "code",
   "execution_count": 2,
   "metadata": {},
   "outputs": [],
   "source": [
    "# state reward function\n",
    "def f(x):\n",
    "    return(2*x-1)\n",
    "\n",
    "# PF-eigenvalue\n",
    "def rho(theta, p,  q):\n",
    "    return(((1-p)*exp(-theta) + q*exp(theta) + sqrt((q*exp(theta)-(1-p)*exp(-theta))**2 + 4*p*(1-q)))/2)\n",
    "\n",
    "# log-PF-eigenvalue\n",
    "def log_rho(theta, p,  q):\n",
    "    return(log(rho(theta, p,  q)))\n",
    "\n",
    "# log-PF-eigenvalue derivative\n",
    "def log_rho_prime(theta, p,  q):\n",
    "    return((q*exp(theta)-(1-p)*exp(-theta))/sqrt((q*exp(theta)-(1-p)*exp(-theta))**2 + 4*p*(1-q)))\n",
    "\n",
    "# inverse-log-PF-eigenvalue derivative\n",
    "def inverse_log_rho_prime(mu, p,  q):\n",
    "    return(log((sqrt(p*(1-q))*mu + sqrt(p*(1-q)*mu**2 + q*(1-p)*(1-mu**2)))/(q*sqrt(1-mu**2))))\n",
    "    \n",
    "# theta transition probability matrix\n",
    "def theta_transitions(theta, p,  q):\n",
    "    r = rho(theta, p,  q)\n",
    "    p_theta = 1 - (1-p)*exp(-theta)/r\n",
    "    q_theta = q*exp(theta)/r\n",
    "    return(p_theta, q_theta)\n",
    "\n",
    "# KL-divergence rate\n",
    "def KL(theta1, theta2, p, q):\n",
    "    return(log_rho(theta2, p, q) - log_rho(theta1, p, q) - log_rho_prime(theta1, p, q)*(theta2 - theta1))\n",
    "\n",
    "def UCB(s, n, variance_proxy, t, p, q):\n",
    "    return(s/n + sqrt(4*variance_proxy*log(t)/n))\n",
    "\n",
    "def g(t):\n",
    "    return(log(t)+3*log(log(t)))\n",
    "\n",
    "def KL_UCB(s, n, variance_proxy, t, p, q):\n",
    "    avg = s/n\n",
    "    if avg == 1.0: return(1.0)\n",
    "    if avg == -1.0: theta1 = -20.0\n",
    "    else: theta1 = inverse_log_rho_prime(avg, p,  q)\n",
    "    theta2 = inversefunc(lambda theta2 : KL(theta1, theta2, p, q), y_values=g(t)/n, domain=[theta1, 20])\n",
    "    return(log_rho_prime(theta2, p,  q))"
   ]
  },
  {
   "cell_type": "code",
   "execution_count": 3,
   "metadata": {},
   "outputs": [
    {
     "name": "stdout",
     "output_type": "stream",
     "text": [
      "[-0.68281207 -0.50568881 -0.48874249 -0.17545481 -0.08324363  0.03935635\n",
      "  0.07911951  0.41975352  0.55380751  0.64728201]\n",
      "[-0.60170909 -0.48399265 -0.47168775 -0.21648409 -0.13383143 -0.02142945\n",
      "  0.01526028  0.3190591   0.42666434  0.49575413]\n",
      "[[0.20409685 0.17923364]\n",
      " [0.26578329 0.23563016]\n",
      " [0.27225131 0.24160585]\n",
      " [0.40668946 0.36857536]\n",
      " [0.45013342 0.41076664]\n",
      " [0.50891774 0.46879296]\n",
      " [0.52800368 0.48786906]\n",
      " [0.68311058 0.64735627]\n",
      " [0.73640572 0.70405957]\n",
      " [0.77006779 0.74039617]]\n",
      "1.241477571129324\n",
      "24.579319260967505\n"
     ]
    }
   ],
   "source": [
    "# number of arms\n",
    "K = 10\n",
    "# number of plays\n",
    "M = 3\n",
    "# time horizon\n",
    "T = 10**4\n",
    "# generator transition probabilities\n",
    "p = 0.49\n",
    "q = 0.45\n",
    "\n",
    "# theta1, ..., thetaK i.i.d. Guassians, descending order\n",
    "thetas = np.random.normal(0, 1/2, K)\n",
    "thetas.sort()\n",
    "print(thetas)\n",
    "\n",
    "# mu1, ..., muK\n",
    "mus = np.zeros(K)\n",
    "for a in range(K): mus[a] = log_rho_prime(thetas[a], p, q)\n",
    "print(mus)\n",
    "\n",
    "# P1, ..., PK\n",
    "transitions = np.zeros((K,2))\n",
    "for a in range(K): \n",
    "    p_theta, q_theta = theta_transitions(thetas[a], p,  q)\n",
    "    transitions[a,0] = p_theta\n",
    "    transitions[a,1] = q_theta\n",
    "print(transitions)\n",
    "\n",
    "# variance proxy for UCB\n",
    "variance_proxy = 1\n",
    "#max([1/min(transitions[a][0]**2, (1-transitions[a][1])**2) for a in range(K)])\n",
    "\n",
    "# best one time reward\n",
    "best_reward = 0\n",
    "for a in range(K-M,K): best_reward += mus[a]\n",
    "print(best_reward)\n",
    "    \n",
    "# optimal constant\n",
    "optimal_constant = 0\n",
    "for b in range(0,K-M): optimal_constant += (mus[K-M] - mus[b])/KL(thetas[b], thetas[K-M], p, q)\n",
    "print(optimal_constant)"
   ]
  },
  {
   "cell_type": "code",
   "execution_count": 4,
   "metadata": {},
   "outputs": [],
   "source": [
    "def index_algorithm(K, M, T, transitions, variance_proxy, p, q, best_reward, index_calculator):\n",
    "    # initial states for the K chains\n",
    "    states = np.zeros(K, dtype=int)\n",
    "    times_pulled = np.zeros(K)\n",
    "    sums = np.zeros(K)\n",
    "    indices = np.zeros(K)\n",
    "    regrets = np.zeros(T)\n",
    "\n",
    "    # initialization\n",
    "    regrets[K-1] = 0\n",
    "    for a in range(K):\n",
    "        for _ in range(M):\n",
    "            states[a] = int(np.random.random_sample() < transitions[a,states[a]])\n",
    "            times_pulled[a] += 1\n",
    "            sums[a] += f(states[a])\n",
    "        regrets[K-1] += best_reward - sums[a]\n",
    "\n",
    "    for t in range(K,T):\n",
    "        for a in range(K):\n",
    "            indices[a] = index_calculator(sums[a], times_pulled[a], variance_proxy, t, p, q)\n",
    "        topM = np.argsort(np.array(indices))[K-M:K]\n",
    "        current_reward = 0\n",
    "        for a in topM:\n",
    "            states[a] = int(np.random.random_sample() < transitions[a][states[a]])\n",
    "            times_pulled[a] += 1\n",
    "            reward = f(states[a])\n",
    "            sums[a] += reward\n",
    "            current_reward += reward\n",
    "        regrets[t] = regrets[t-1] + best_reward - current_reward\n",
    "    \n",
    "    return(regrets)"
   ]
  },
  {
   "cell_type": "code",
   "execution_count": 5,
   "metadata": {},
   "outputs": [],
   "source": [
    "regrets = np.zeros(T)\n",
    "MC_iterations = 10**2\n",
    "for _ in range(MC_iterations):\n",
    "    regrets += index_algorithm(K, M, T, transitions, variance_proxy, p, q, best_reward, UCB)/MC_iterations"
   ]
  },
  {
   "cell_type": "code",
   "execution_count": 6,
   "metadata": {},
   "outputs": [
    {
     "data": {
      "image/png": "[encoded data removed]",
      "text/plain": [
       "<Figure size 432x288 with 1 Axes>"
      ]
     },
     "metadata": {
      "needs_background": "light"
     },
     "output_type": "display_data"
    }
   ],
   "source": [
    "plt.plot(range(K,T), regrets[K:T], 'b-.')\n",
    "lower_bound = [optimal_constant*log(t) for t in range(K, T)]\n",
    "plt.plot(range(K,T), lower_bound, 'r-')\n",
    "plt.savefig('UCB.png')\n",
    "# plt.show()"
   ]
  },
  {
   "cell_type": "code",
   "execution_count": null,
   "metadata": {},
   "outputs": [],
   "source": [
    "np.savetxt(\"UCB.csv\", regrets, delimiter=\",\")"
   ]
  },
  {
   "cell_type": "code",
   "execution_count": null,
   "metadata": {},
   "outputs": [],
   "source": []
  }
 ],
 "metadata": {
  "kernelspec": {
   "display_name": "Python 3",
   "language": "python",
   "name": "python3"
  },
  "language_info": {
   "codemirror_mode": {
    "name": "ipython",
    "version": 3
   },
   "file_extension": ".py",
   "mimetype": "text/x-python",
   "name": "python",
   "nbconvert_exporter": "python",
   "pygments_lexer": "ipython3",
   "version": "3.7.6"
  }
 },
 "nbformat": 4,
 "nbformat_minor": 4
}
